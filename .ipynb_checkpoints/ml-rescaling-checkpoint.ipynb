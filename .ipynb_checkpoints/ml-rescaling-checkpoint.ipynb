{
 "cells": [
  {
   "cell_type": "code",
   "execution_count": 35,
   "id": "098cbbeb",
   "metadata": {},
   "outputs": [],
   "source": [
    "import pandas as pd\n",
    "import numpy as np\n",
    "import matplotlib.pyplot as plt\n",
    "import seaborn as sns\n",
    "%matplotlib inline\n",
    "from sklearn.preprocessing import MinMaxScaler\n",
    "from sklearn.preprocessing import StandardScaler\n",
    "import missingno as msn"
   ]
  },
  {
   "cell_type": "markdown",
   "id": "9489da5e",
   "metadata": {},
   "source": [
    "## Rescaling"
   ]
  },
  {
   "cell_type": "markdown",
   "id": "9903bedd",
   "metadata": {},
   "source": [
    "**“Rescaling”** a vector means to add or subtract a constant and then multiply or divide by a constant, as you would do to change the units of measurement of the data, **for example, to convert a temperature from Celsius to Fahrenheit**\n",
    "\n",
    "### TWO TYPES:\n",
    "\n",
    "**Normalization** helps to scale down the feature between 0 to 1.\n",
    "\n",
    "**Standardization** helps to scale down the feature based on standard normal distribution (Mean = 0 and Standard Deviation = 1)"
   ]
  },
  {
   "cell_type": "markdown",
   "id": "266d1dae",
   "metadata": {},
   "source": [
    "## Normalization\n"
   ]
  },
  {
   "cell_type": "code",
   "execution_count": 1,
   "id": "4cc2790f",
   "metadata": {},
   "outputs": [],
   "source": [
    "# min max scaling"
   ]
  },
  {
   "cell_type": "code",
   "execution_count": 43,
   "id": "e76d5f34",
   "metadata": {
    "scrolled": true
   },
   "outputs": [
    {
     "data": {
      "text/html": [
       "<div>\n",
       "<style scoped>\n",
       "    .dataframe tbody tr th:only-of-type {\n",
       "        vertical-align: middle;\n",
       "    }\n",
       "\n",
       "    .dataframe tbody tr th {\n",
       "        vertical-align: top;\n",
       "    }\n",
       "\n",
       "    .dataframe thead th {\n",
       "        text-align: right;\n",
       "    }\n",
       "</style>\n",
       "<table border=\"1\" class=\"dataframe\">\n",
       "  <thead>\n",
       "    <tr style=\"text-align: right;\">\n",
       "      <th></th>\n",
       "      <th>Class</th>\n",
       "      <th>Alcohol</th>\n",
       "      <th>Malic</th>\n",
       "    </tr>\n",
       "  </thead>\n",
       "  <tbody>\n",
       "    <tr>\n",
       "      <th>0</th>\n",
       "      <td>1</td>\n",
       "      <td>14.35</td>\n",
       "      <td>1.71</td>\n",
       "    </tr>\n",
       "    <tr>\n",
       "      <th>1</th>\n",
       "      <td>1</td>\n",
       "      <td>14.36</td>\n",
       "      <td>2.34</td>\n",
       "    </tr>\n",
       "    <tr>\n",
       "      <th>2</th>\n",
       "      <td>1</td>\n",
       "      <td>16.28</td>\n",
       "      <td>3.45</td>\n",
       "    </tr>\n",
       "    <tr>\n",
       "      <th>3</th>\n",
       "      <td>1</td>\n",
       "      <td>19.22</td>\n",
       "      <td>2.56</td>\n",
       "    </tr>\n",
       "    <tr>\n",
       "      <th>4</th>\n",
       "      <td>1</td>\n",
       "      <td>16.22</td>\n",
       "      <td>6.58</td>\n",
       "    </tr>\n",
       "  </tbody>\n",
       "</table>\n",
       "</div>"
      ],
      "text/plain": [
       "   Class  Alcohol  Malic\n",
       "0      1    14.35   1.71\n",
       "1      1    14.36   2.34\n",
       "2      1    16.28   3.45\n",
       "3      1    19.22   2.56\n",
       "4      1    16.22   6.58"
      ]
     },
     "execution_count": 43,
     "metadata": {},
     "output_type": "execute_result"
    }
   ],
   "source": [
    "df = pd.DataFrame({\"Class\": [1,1,1,1,1,1,1,2,2,2,2,2,3,3,4,3,5,3,3,2,2,2,3,3],\n",
    "                   \"Alcohol\": [14.35,14.36,16.28,19.22,16.22,12.34,13.44,14.45,14.68,20.10,22.33,24.12,18.34,14.34,16.77,\n",
    "                              19.22,18,33,20.44,14.56,17.89,15.80,16.54,13.21],\n",
    "                  \"Malic\": [1.71,2.34,3.45,2.56,6.58,3.77,2.34,1.99,6.54,7.65,8.22,8.23,4.44,5.69,2.34,9.12,8.43,7.16,6.75,\n",
    "                           8.88,4.91,3.38,2.35,4.57]})\n",
    "df.head()"
   ]
  },
  {
   "cell_type": "code",
   "execution_count": 22,
   "id": "e91651c9",
   "metadata": {},
   "outputs": [],
   "source": [
    "# creating an object of MinMaxScaler named scaling"
   ]
  },
  {
   "cell_type": "code",
   "execution_count": 23,
   "id": "9e1b5788",
   "metadata": {},
   "outputs": [],
   "source": [
    "scaling = MinMaxScaler()"
   ]
  },
  {
   "cell_type": "code",
   "execution_count": 25,
   "id": "6fc03aea",
   "metadata": {
    "scrolled": false
   },
   "outputs": [
    {
     "data": {
      "text/plain": [
       "array([[0.09728945, 0.        ],\n",
       "       [0.09777348, 0.08502024],\n",
       "       [0.19070668, 0.23481781],\n",
       "       [0.33301065, 0.11470985],\n",
       "       [0.18780252, 0.65721997],\n",
       "       [0.        , 0.2780027 ],\n",
       "       [0.05324298, 0.08502024],\n",
       "       [0.10212972, 0.03778677],\n",
       "       [0.11326234, 0.65182186],\n",
       "       [0.37560503, 0.80161943],\n",
       "       [0.48354308, 0.87854251],\n",
       "       [0.57018393, 0.87989204],\n",
       "       [0.29041626, 0.36842105],\n",
       "       [0.09680542, 0.53711201],\n",
       "       [0.21442401, 0.08502024],\n",
       "       [0.33301065, 1.        ],\n",
       "       [0.27395934, 0.90688259],\n",
       "       [1.        , 0.73549258],\n",
       "       [0.39206196, 0.68016194],\n",
       "       [0.10745402, 0.96761134],\n",
       "       [0.26863504, 0.43184885],\n",
       "       [0.16747338, 0.22537112],\n",
       "       [0.20329138, 0.08636977],\n",
       "       [0.04211036, 0.26450742]])"
      ]
     },
     "execution_count": 25,
     "metadata": {},
     "output_type": "execute_result"
    }
   ],
   "source": [
    "scaling.fit_transform(df[[\"Alcohol\",\"Malic\"]])"
   ]
  },
  {
   "cell_type": "markdown",
   "id": "54f2475f",
   "metadata": {},
   "source": [
    "## Standardization (Z-Score Normalisation)"
   ]
  },
  {
   "cell_type": "markdown",
   "id": "592ac937",
   "metadata": {},
   "source": [
    "Here all the features will be transformed in such a way that it will have the properties of a standard normal distribution \n",
    "with mean = 0 and standard deviation = 1"
   ]
  },
  {
   "cell_type": "code",
   "execution_count": 31,
   "id": "8586b695",
   "metadata": {},
   "outputs": [
    {
     "data": {
      "text/plain": [
       "array([[-0.72386526, -1.37076624],\n",
       "       [-0.72156728, -1.11633479],\n",
       "       [-0.28035416, -0.66805082],\n",
       "       [ 0.39525341, -1.02748572],\n",
       "       [-0.29414207,  0.59602922],\n",
       "       [-1.18576024, -0.5388158 ],\n",
       "       [-0.93298189, -1.11633479],\n",
       "       [-0.70088541, -1.25768559],\n",
       "       [-0.64803176,  0.57987484],\n",
       "       [ 0.59747609,  1.02815881],\n",
       "       [ 1.10992673,  1.25835869],\n",
       "       [ 1.52126604,  1.26239729],\n",
       "       [ 0.19303074, -0.26822998],\n",
       "       [-0.72616325,  0.23659432],\n",
       "       [-0.1677529 , -1.11633479],\n",
       "       [ 0.39525341,  1.62183219],\n",
       "       [ 0.11489925,  1.34316917],\n",
       "       [ 3.56187668,  0.83026769],\n",
       "       [ 0.67560758,  0.66468532],\n",
       "       [-0.67560758,  1.52490592],\n",
       "       [ 0.08962141, -0.07841604],\n",
       "       [-0.39065744, -0.69632098],\n",
       "       [-0.22060656, -1.1122962 ],\n",
       "       [-0.98583555, -0.57920174]])"
      ]
     },
     "execution_count": 31,
     "metadata": {},
     "output_type": "execute_result"
    }
   ],
   "source": [
    "scaling = StandardScaler()\n",
    "scaling.fit_transform(df[[\"Alcohol\",\"Malic\"]])"
   ]
  },
  {
   "cell_type": "code",
   "execution_count": null,
   "id": "addb5ba3",
   "metadata": {},
   "outputs": [],
   "source": []
  }
 ],
 "metadata": {
  "kernelspec": {
   "display_name": "Python 3 (ipykernel)",
   "language": "python",
   "name": "python3"
  },
  "language_info": {
   "codemirror_mode": {
    "name": "ipython",
    "version": 3
   },
   "file_extension": ".py",
   "mimetype": "text/x-python",
   "name": "python",
   "nbconvert_exporter": "python",
   "pygments_lexer": "ipython3",
   "version": "3.9.13"
  }
 },
 "nbformat": 4,
 "nbformat_minor": 5
}
