{
 "cells": [
  {
   "cell_type": "markdown",
   "id": "466d2c70",
   "metadata": {},
   "source": [
    "# Machine Learning"
   ]
  },
  {
   "cell_type": "markdown",
   "id": "99bacbcc",
   "metadata": {},
   "source": [
    "Machine Learning focuses on algorithms that helps computers learn from data without explicit \n",
    "programming "
   ]
  },
  {
   "cell_type": "markdown",
   "id": "26acd378",
   "metadata": {},
   "source": [
    "**AI: - Goal is to enable computers and machines to perform human like tasks and simulate human behaviour**"
   ]
  },
  {
   "cell_type": "markdown",
   "id": "591e7b76",
   "metadata": {},
   "source": [
    "**ML: - Subset of AI that tries to solve a specific problem and make predictions using data**"
   ]
  },
  {
   "cell_type": "markdown",
   "id": "48a42334",
   "metadata": {},
   "source": [
    "**DS: - A Field that attempts to find patterns and draw insights from the data**"
   ]
  },
  {
   "cell_type": "markdown",
   "id": "52bf5c42",
   "metadata": {},
   "source": [
    "Algorithm and Model"
   ]
  },
  {
   "cell_type": "markdown",
   "id": "c0df8714",
   "metadata": {},
   "source": [
    "**An “algorithm” in machine learning is a procedure that is run on data to create a machine learning “model.”**"
   ]
  },
  {
   "cell_type": "markdown",
   "id": "de6b399b",
   "metadata": {},
   "source": [
    "## Types"
   ]
  },
  {
   "cell_type": "markdown",
   "id": "2f983f14",
   "metadata": {},
   "source": [
    "### 1) Supervised Learning\n",
    "\n"
   ]
  },
  {
   "cell_type": "markdown",
   "id": "49e01098",
   "metadata": {},
   "source": [
    "Labelled inputs and Labelled Outputs are fed to a model and trained so that it should predict\n",
    "the output when a new data is given."
   ]
  },
  {
   "cell_type": "markdown",
   "id": "4d46d8b5",
   "metadata": {},
   "source": [
    "> **Supervised learning algorithms are trained using labeled inputs.**\n",
    "\n",
    "> **The goal of supervised learning is to train the model so that it can predict the output when it is given new data.**\n",
    "\n",
    "> Takes direct feedback to check if it is predicting correct output or not. \n",
    "\n",
    "> Supervised learning model predicts the output. \n",
    "\n",
    "> **Input data is provided to the model along with the output.** \n",
    "\n",
    "> Supervised learning needs supervision to train the model.\n",
    "\n",
    "> Supervised learning can be categorized in Classification and Regression problems. \n",
    "\n",
    "> **Supervised learning model produces an accurate result.**\n",
    "\n",
    "> It includes various algorithms:\n",
    "  Linear Regression, Logistic Regression, Support Vector Machine, Multi-class Classification, Decision tree,Bayesian Logic. "
   ]
  },
  {
   "cell_type": "markdown",
   "id": "130bd6f6",
   "metadata": {},
   "source": [
    "Examples:\n",
    "> a picture of a cat will have a label as \"cat\"\n",
    "\n",
    "> a picture of a dog will have a label as \"dog\"\n",
    "\n",
    "> Suppose we have an image of different types of fruits. The task of our supervised learning model is to identify the fruits and classify them accordingly.\n"
   ]
  },
  {
   "cell_type": "markdown",
   "id": "7b62a7b6",
   "metadata": {},
   "source": [
    "### 2) Unsupervised Learning"
   ]
  },
  {
   "cell_type": "markdown",
   "id": "ad55eada",
   "metadata": {},
   "source": [
    "Unlabeled input datas (no output datas) are fed to a model and is used to find the hidden patterns and useful insights"
   ]
  },
  {
   "cell_type": "markdown",
   "id": "f3867a60",
   "metadata": {},
   "source": [
    "> **Unsupervised learning algorithms are trained using unlabeled data.**\n",
    "\n",
    "> **The goal of unsupervised learning is to find the hidden patterns and useful insights from the unknown dataset.**\n",
    "\n",
    "> Unsupervised learning model does not take any feedback. \n",
    "\n",
    "> Unsupervised learning model finds the hidden patterns in data.\n",
    "\n",
    "> **Only input data is provided to the model.**\n",
    "\n",
    "> Unsupervised learning does not need any supervision to train the model. \n",
    "\n",
    "> **Unsupervised learning model may give less accurate result as compared to supervised learning.**\n",
    "\n",
    "> Unsupervised Learning can be classified in Clustering and Associations problems. \n",
    "\n",
    "> It includes various algorithms such as Clustering, KNN, and Apriori algorithm."
   ]
  },
  {
   "cell_type": "markdown",
   "id": "ce112760",
   "metadata": {},
   "source": [
    "Examples:\n",
    "> a collection of cat pictures. since it has no labels it will cluster into different sets"
   ]
  },
  {
   "cell_type": "markdown",
   "id": "4741d569",
   "metadata": {},
   "source": [
    "## Supervised Leaning vs Unsupervised Learning\n",
    "\n",
    "https://www.javatpoint.com/difference-between-supervised-and-unsupervised-learning"
   ]
  },
  {
   "cell_type": "code",
   "execution_count": null,
   "id": "363a4892",
   "metadata": {},
   "outputs": [],
   "source": []
  }
 ],
 "metadata": {
  "kernelspec": {
   "display_name": "Python 3 (ipykernel)",
   "language": "python",
   "name": "python3"
  },
  "language_info": {
   "codemirror_mode": {
    "name": "ipython",
    "version": 3
   },
   "file_extension": ".py",
   "mimetype": "text/x-python",
   "name": "python",
   "nbconvert_exporter": "python",
   "pygments_lexer": "ipython3",
   "version": "3.9.13"
  }
 },
 "nbformat": 4,
 "nbformat_minor": 5
}
