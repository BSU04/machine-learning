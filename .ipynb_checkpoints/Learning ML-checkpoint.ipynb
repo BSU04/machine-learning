{
 "cells": [
  {
   "cell_type": "markdown",
   "id": "45c1841b",
   "metadata": {},
   "source": [
    "# Machine Learning"
   ]
  },
  {
   "cell_type": "markdown",
   "id": "a4a09fd7",
   "metadata": {},
   "source": [
    "Machine Learning focuses on algorithms that helps computers learn from data without explicit \n",
    "programming "
   ]
  },
  {
   "cell_type": "markdown",
   "id": "62c48d14",
   "metadata": {},
   "source": [
    "**AI: - Goal is to enable computers and machines to perform human like tasks and simulate human behaviour**"
   ]
  },
  {
   "cell_type": "markdown",
   "id": "f9451f58",
   "metadata": {},
   "source": [
    "**ML: - Subset of AI that tries to solve a specific problem and make predictions using data**"
   ]
  },
  {
   "cell_type": "markdown",
   "id": "fb8d5cbb",
   "metadata": {},
   "source": [
    "**DS: - A Field that attempts to find patterns and draw insights from the data**"
   ]
  },
  {
   "cell_type": "markdown",
   "id": "173798dd",
   "metadata": {},
   "source": [
    "Algorithm and Model"
   ]
  },
  {
   "cell_type": "markdown",
   "id": "b7b62791",
   "metadata": {},
   "source": [
    "**An “algorithm” in machine learning is a procedure that is run on data to create a machine learning “model.”**"
   ]
  },
  {
   "cell_type": "markdown",
   "id": "b1a8c9b8",
   "metadata": {},
   "source": [
    "**Inputs - Feature Vectors**"
   ]
  },
  {
   "cell_type": "markdown",
   "id": "d956d10d",
   "metadata": {},
   "source": [
    "## Types"
   ]
  },
  {
   "cell_type": "markdown",
   "id": "32200592",
   "metadata": {},
   "source": [
    "### 1) Supervised Learning\n",
    "\n"
   ]
  },
  {
   "cell_type": "markdown",
   "id": "36d8c0d9",
   "metadata": {},
   "source": [
    "Labelled inputs and Labelled Outputs are fed to a model and trained so that it should predict\n",
    "the output when a new data is given."
   ]
  },
  {
   "cell_type": "markdown",
   "id": "0904ec2a",
   "metadata": {},
   "source": [
    "> **Supervised learning algorithms are trained using labeled inputs.**\n",
    "\n",
    "> **The goal of supervised learning is to train the model so that it can predict the output when it is given new data.**\n",
    "\n",
    "> Takes direct feedback to check if it is predicting correct output or not. \n",
    "\n",
    "> Supervised learning model predicts the output. \n",
    "\n",
    "> **Input data is provided to the model along with the output.** \n",
    "\n",
    "> Supervised learning needs supervision to train the model.\n",
    "\n",
    "> Supervised learning can be categorized in Classification and Regression problems. \n",
    "\n",
    "> **Supervised learning model produces an accurate result.**\n",
    "\n",
    "> It includes various algorithms:\n",
    "  Linear Regression, Logistic Regression, Support Vector Machine, Multi-class Classification, Decision tree,Bayesian Logic. "
   ]
  },
  {
   "cell_type": "markdown",
   "id": "185dc4be",
   "metadata": {},
   "source": [
    "Examples:\n",
    "> a picture of a cat will have a label as \"cat\"\n",
    "\n",
    "> a picture of a dog will have a label as \"dog\"\n",
    "\n",
    "> Suppose we have an image of different types of fruits. The task of our supervised learning model is to identify the fruits and classify them accordingly.\n"
   ]
  },
  {
   "cell_type": "markdown",
   "id": "c48f9022",
   "metadata": {},
   "source": [
    "### 2) Unsupervised Learning"
   ]
  },
  {
   "cell_type": "markdown",
   "id": "53f0c0e0",
   "metadata": {},
   "source": [
    "Unlabeled input datas (no output datas) are fed to a model and is used to find the hidden patterns and useful insights"
   ]
  },
  {
   "cell_type": "markdown",
   "id": "cbf3baf4",
   "metadata": {},
   "source": [
    "> **Unsupervised learning algorithms are trained using unlabeled data.**\n",
    "\n",
    "> **The goal of unsupervised learning is to find the hidden patterns and useful insights from the unknown dataset.**\n",
    "\n",
    "> Unsupervised learning model does not take any feedback. \n",
    "\n",
    "> Unsupervised learning model finds the hidden patterns in data.\n",
    "\n",
    "> **Only input data is provided to the model.**\n",
    "\n",
    "> Unsupervised learning does not need any supervision to train the model. \n",
    "\n",
    "> **Unsupervised learning model may give less accurate result as compared to supervised learning.**\n",
    "\n",
    "> Unsupervised Learning can be classified in Clustering and Associations problems. \n",
    "\n",
    "> It includes various algorithms such as Clustering, KNN, and Apriori algorithm."
   ]
  },
  {
   "cell_type": "markdown",
   "id": "23c6a774",
   "metadata": {},
   "source": [
    "Examples:\n",
    "> a collection of cat pictures. since it has no labels it will cluster into different sets"
   ]
  },
  {
   "cell_type": "markdown",
   "id": "df8fcdf7",
   "metadata": {},
   "source": [
    "## Supervised Leaning vs Unsupervised Learning\n",
    "\n",
    "https://www.javatpoint.com/difference-between-supervised-and-unsupervised-learning"
   ]
  },
  {
   "cell_type": "markdown",
   "id": "32749f55",
   "metadata": {},
   "source": [
    "# Types of Data"
   ]
  },
  {
   "cell_type": "markdown",
   "id": "0c682c97",
   "metadata": {},
   "source": [
    "In simple words;\n",
    "\n",
    "Quantitative - countable and numerical\n",
    "\n",
    "Qualitative - non countable and not numerical"
   ]
  },
  {
   "cell_type": "markdown",
   "id": "86e0e6b6",
   "metadata": {},
   "source": [
    "## Qualitative (Categorical Data)"
   ]
  },
  {
   "cell_type": "markdown",
   "id": "6eec1cd5",
   "metadata": {},
   "source": [
    "eg; colour,gender,nationalities etc.\n",
    "\n",
    "### Nominal data - Label variables without any quantitative value. (Categories with no order)\n",
    "\n",
    "egs; male/female, hair color, nationalities, names of people,languages\n",
    "\n",
    "### Ordinal data - Values follow a natural order (Categories with order)\n",
    "\n",
    "Ordinal scales are often used for measures of satisfaction, happiness, and so on\n",
    "\n",
    "    Very likely\n",
    "    Likely\n",
    "    Neutral\n",
    "    Unlikely\n",
    "    Very unlikely\n",
    "    \n",
    "    Agree\n",
    "    Disagree\n",
    "    Strongly Agree\n",
    "\n",
    "\n"
   ]
  },
  {
   "cell_type": "markdown",
   "id": "5b10c4fc",
   "metadata": {},
   "source": [
    "## Quantitative (Numerical Data)"
   ]
  },
  {
   "cell_type": "markdown",
   "id": "1059d462",
   "metadata": {},
   "source": [
    "eg; weight,length,distance\n",
    "\n",
    "## Discrete data - Whole numbers (integers - like 1, 356, or 9) that can't be divided \n",
    "\n",
    "    The number of students in a class.\n",
    "\n",
    "    The number of workers in a company.\n",
    "\n",
    "**Discrete data can be counted**\n",
    "    \n",
    "## Continuous data - Can be divided up as much as you want\n",
    "\n",
    "    The weight of a truck.\n",
    "\n",
    "    The speed of cars.\n",
    "    \n",
    "**Continuous data can be measured**\n",
    "    "
   ]
  },
  {
   "cell_type": "markdown",
   "id": "777273ad",
   "metadata": {},
   "source": [
    "## One Hot Encoding\n",
    "\n",
    "***One hot encoding is a technique used to represent categorical variables as numerical values in a machine learning model***\n",
    "\n",
    "https://www.geeksforgeeks.org/ml-one-hot-encoding-of-datasets-in-python/"
   ]
  },
  {
   "cell_type": "code",
   "execution_count": null,
   "id": "b758bdf2",
   "metadata": {},
   "outputs": [],
   "source": []
  },
  {
   "cell_type": "code",
   "execution_count": null,
   "id": "a3e0946a",
   "metadata": {},
   "outputs": [],
   "source": []
  }
 ],
 "metadata": {
  "kernelspec": {
   "display_name": "Python 3 (ipykernel)",
   "language": "python",
   "name": "python3"
  },
  "language_info": {
   "codemirror_mode": {
    "name": "ipython",
    "version": 3
   },
   "file_extension": ".py",
   "mimetype": "text/x-python",
   "name": "python",
   "nbconvert_exporter": "python",
   "pygments_lexer": "ipython3",
   "version": "3.9.13"
  }
 },
 "nbformat": 4,
 "nbformat_minor": 5
}
